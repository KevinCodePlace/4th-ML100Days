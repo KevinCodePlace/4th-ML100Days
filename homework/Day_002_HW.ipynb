{
 "cells": [
  {
   "cell_type": "markdown",
   "metadata": {},
   "source": [
    "## [作業目標]\n",
    "了解機器學習適合應用的領域與範疇。"
   ]
  },
  {
   "cell_type": "markdown",
   "metadata": {},
   "source": [
    "## [作業重點]\n",
    "透過瞭解機器學習的運作方式，找出非常適用機器學習應用的領域及其原因"
   ]
  },
  {
   "cell_type": "markdown",
   "metadata": {},
   "source": [
    "## 作業\n",
    "請找出一個你認為機器學習可以發光發熱的領域並闡述原因? "
   ]
  },
  {
   "cell_type": "markdown",
   "metadata": {},
   "source": [
    "我的理解是機器學習可以透過學習一定的 Pattern 去預測未來的走向，而且資料量也要夠大才行。\n",
    "我直接聯想會是在財金投資領域的量化交易（程式交易）的部分。\n",
    "其實很大一部分人也都是用技術分析在決定投資標的，而人力的技術分析其實就是透過分析以往的資訊去做未來的投資判斷，\n",
    "那正好機器學習就很適合來取代人力做這個部分。\n",
    "\n",
    "又說到投資的資料量其實很非常多，從縱向（時間序列）到橫向（多種標的）的資料都非常充足。\n",
    "就我自己對於機器學習的認識這部分肯定有值得發展的地方"
   ]
  }
 ],
 "metadata": {
  "kernelspec": {
   "display_name": "Python 3",
   "language": "python",
   "name": "python3"
  },
  "language_info": {
   "codemirror_mode": {
    "name": "ipython",
    "version": 3
   },
   "file_extension": ".py",
   "mimetype": "text/x-python",
   "name": "python",
   "nbconvert_exporter": "python",
   "pygments_lexer": "ipython3",
   "version": "3.7.4"
  }
 },
 "nbformat": 4,
 "nbformat_minor": 2
}
